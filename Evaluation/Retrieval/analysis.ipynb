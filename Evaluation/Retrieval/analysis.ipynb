{
 "cells": [
  {
   "cell_type": "code",
   "execution_count": 14,
   "metadata": {},
   "outputs": [],
   "source": [
    "import pandas as pd "
   ]
  },
  {
   "cell_type": "code",
   "execution_count": 34,
   "metadata": {},
   "outputs": [],
   "source": [
    "results = []\n",
    "for task in [\"Table_VQA\", \"FinanceBench\", \"FinQA\"]:\n",
    "    df = pd.read_excel(f\"{task}_retrieval_results.xlsx\")\n",
    "    best = df.loc[df.groupby('Pipeline')['nDCG@5'].idxmax()]\n",
    "    best = best.sort_values('Pipeline')\n",
    "    best = best.set_index(\"Pipeline\").drop(\"File\", axis=1)\n",
    "    best.index.name = None\n",
    "    best.columns = pd.MultiIndex.from_product([[task], best.columns])\n",
    "    results.append(best)\n",
    "\n",
    "combined = pd.concat(results, axis=1)\n",
    "combined.to_latex(\"best_method_comparision.tex\", float_format=\"%.2f\", multicolumn=True)"
   ]
  },
  {
   "cell_type": "code",
   "execution_count": 15,
   "metadata": {},
   "outputs": [],
   "source": [
    "def safe_split(text):\n",
    "    try:\n",
    "        return int(text.split(\"_\")[1])\n",
    "    except:\n",
    "        return 0"
   ]
  },
  {
   "cell_type": "code",
   "execution_count": null,
   "metadata": {},
   "outputs": [],
   "source": [
    "results = []\n",
    "for task in [\"Table_VQA\", \"FinanceBench\", \"FinQA\"]:\n",
    "    df = pd.read_excel(f\"{task}_retrieval_results.xlsx\")\n",
    "    text = df[df.Pipeline == \"text\"]\n",
    "    text[\"Reranker\"] = text.File.str.split(\"_\").str[0]\n",
    "    text[\"Top N\"] = text.File.apply(safe_split)\n",
    "    text.drop(\"File\", axis=1, inplace=True)\n",
    "    text = text.sort_values(by=[\"Reranker\", \"Top N\"], ascending=True)\n",
    "    text.Reranker = text.Reranker + \" \" + text[\"Top N\"].astype(str)\n",
    "    text = text.set_index(\"Reranker\").drop([\"Pipeline\", \"Top N\"], axis=1)\n",
    "    text.index.name = None\n",
    "    text = text.round(2)\n",
    "    text.columns = pd.MultiIndex.from_product([[task], text.columns])\n",
    "    results.append(text)\n",
    "\n",
    "combined = pd.concat(results, axis=1)\n",
    "combined.to_latex(\"reranker_comparision.tex\", float_format=\"%.2f\", multicolumn=True)"
   ]
  }
 ],
 "metadata": {
  "kernelspec": {
   "display_name": ".venv",
   "language": "python",
   "name": "python3"
  },
  "language_info": {
   "codemirror_mode": {
    "name": "ipython",
    "version": 3
   },
   "file_extension": ".py",
   "mimetype": "text/x-python",
   "name": "python",
   "nbconvert_exporter": "python",
   "pygments_lexer": "ipython3",
   "version": "3.12.7"
  }
 },
 "nbformat": 4,
 "nbformat_minor": 2
}
